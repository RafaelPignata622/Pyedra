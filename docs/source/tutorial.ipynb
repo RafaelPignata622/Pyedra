{
 "cells": [
  {
   "cell_type": "markdown",
   "metadata": {},
   "source": [
    "# Pyedra's Tutorial\n",
    "\n",
    "This tutorial is intended to serve as a guide for using Pyedra to analyze asteroid phase curve data.\n",
    "\n",
    "## Imports\n",
    "\n",
    "The first thing we will do is import the necessary libraries. In general you will need the following:\n",
    "- `pyedra` (*pyedra*) is the library that we present in this tutorial.\n",
    "- `pandas` (*pandas*) this library will allow you to import your data as a dataframe.\n",
    "\n",
    "_Note: In this tutorial we assume that you already have experience using these libraries._"
   ]
  },
  {
   "cell_type": "code",
   "execution_count": 20,
   "metadata": {},
   "outputs": [],
   "source": [
    "import pyedra\n",
    "import pandas as pd"
   ]
  },
  {
   "cell_type": "markdown",
   "metadata": {},
   "source": [
    "## Upload the data\n",
    "\n",
    "The next thing we have to do is load our data. Pyedra should receive a dataframe with three columns: id (MPC number of the asteroid), alpha ($\\alpha$, phase angle) and v (reduced magnitude in Johnson's V filter). You must respect the order and names of the columns as they have been mentioned. In this step we recommend the use of pandas:\n",
    "\n",
    "`df = pd.read_csv('somefile.csv')`\n",
    "\n",
    "For this tutorial we will use a preloaded data set offered by Pyedra."
   ]
  },
  {
   "cell_type": "code",
   "execution_count": 21,
   "metadata": {},
   "outputs": [],
   "source": [
    "df = pyedra.datasets.load_carbognani2019()"
   ]
  },
  {
   "cell_type": "markdown",
   "metadata": {},
   "source": [
    "Here we show you the structure that your data file should have. Note that the file can contain information about many asteroids, which allows to obtain catalogs of the parameters of the phase function for large databases."
   ]
  },
  {
   "cell_type": "code",
   "execution_count": 7,
   "metadata": {},
   "outputs": [
    {
     "data": {
      "text/html": [
       "<div>\n",
       "<style scoped>\n",
       "    .dataframe tbody tr th:only-of-type {\n",
       "        vertical-align: middle;\n",
       "    }\n",
       "\n",
       "    .dataframe tbody tr th {\n",
       "        vertical-align: top;\n",
       "    }\n",
       "\n",
       "    .dataframe thead th {\n",
       "        text-align: right;\n",
       "    }\n",
       "</style>\n",
       "<table border=\"1\" class=\"dataframe\">\n",
       "  <thead>\n",
       "    <tr style=\"text-align: right;\">\n",
       "      <th></th>\n",
       "      <th>id</th>\n",
       "      <th>alpha</th>\n",
       "      <th>v</th>\n",
       "    </tr>\n",
       "  </thead>\n",
       "  <tbody>\n",
       "    <tr>\n",
       "      <th>0</th>\n",
       "      <td>85</td>\n",
       "      <td>0.89</td>\n",
       "      <td>7.62</td>\n",
       "    </tr>\n",
       "    <tr>\n",
       "      <th>1</th>\n",
       "      <td>85</td>\n",
       "      <td>1.18</td>\n",
       "      <td>7.67</td>\n",
       "    </tr>\n",
       "    <tr>\n",
       "      <th>2</th>\n",
       "      <td>85</td>\n",
       "      <td>2.07</td>\n",
       "      <td>7.82</td>\n",
       "    </tr>\n",
       "    <tr>\n",
       "      <th>3</th>\n",
       "      <td>85</td>\n",
       "      <td>5.11</td>\n",
       "      <td>8.01</td>\n",
       "    </tr>\n",
       "    <tr>\n",
       "      <th>4</th>\n",
       "      <td>85</td>\n",
       "      <td>16.24</td>\n",
       "      <td>8.48</td>\n",
       "    </tr>\n",
       "    <tr>\n",
       "      <th>5</th>\n",
       "      <td>85</td>\n",
       "      <td>17.49</td>\n",
       "      <td>8.53</td>\n",
       "    </tr>\n",
       "    <tr>\n",
       "      <th>6</th>\n",
       "      <td>85</td>\n",
       "      <td>21.24</td>\n",
       "      <td>8.66</td>\n",
       "    </tr>\n",
       "    <tr>\n",
       "      <th>7</th>\n",
       "      <td>208</td>\n",
       "      <td>0.64</td>\n",
       "      <td>9.20</td>\n",
       "    </tr>\n",
       "    <tr>\n",
       "      <th>8</th>\n",
       "      <td>208</td>\n",
       "      <td>1.01</td>\n",
       "      <td>9.24</td>\n",
       "    </tr>\n",
       "    <tr>\n",
       "      <th>9</th>\n",
       "      <td>208</td>\n",
       "      <td>1.74</td>\n",
       "      <td>9.39</td>\n",
       "    </tr>\n",
       "    <tr>\n",
       "      <th>10</th>\n",
       "      <td>208</td>\n",
       "      <td>3.75</td>\n",
       "      <td>9.69</td>\n",
       "    </tr>\n",
       "    <tr>\n",
       "      <th>11</th>\n",
       "      <td>208</td>\n",
       "      <td>11.85</td>\n",
       "      <td>9.73</td>\n",
       "    </tr>\n",
       "    <tr>\n",
       "      <th>12</th>\n",
       "      <td>208</td>\n",
       "      <td>17.28</td>\n",
       "      <td>9.97</td>\n",
       "    </tr>\n",
       "    <tr>\n",
       "      <th>13</th>\n",
       "      <td>208</td>\n",
       "      <td>19.18</td>\n",
       "      <td>9.99</td>\n",
       "    </tr>\n",
       "    <tr>\n",
       "      <th>14</th>\n",
       "      <td>236</td>\n",
       "      <td>0.86</td>\n",
       "      <td>8.28</td>\n",
       "    </tr>\n",
       "    <tr>\n",
       "      <th>15</th>\n",
       "      <td>236</td>\n",
       "      <td>1.27</td>\n",
       "      <td>8.17</td>\n",
       "    </tr>\n",
       "    <tr>\n",
       "      <th>16</th>\n",
       "      <td>236</td>\n",
       "      <td>1.95</td>\n",
       "      <td>8.22</td>\n",
       "    </tr>\n",
       "    <tr>\n",
       "      <th>17</th>\n",
       "      <td>236</td>\n",
       "      <td>6.39</td>\n",
       "      <td>8.82</td>\n",
       "    </tr>\n",
       "    <tr>\n",
       "      <th>18</th>\n",
       "      <td>236</td>\n",
       "      <td>9.77</td>\n",
       "      <td>8.73</td>\n",
       "    </tr>\n",
       "    <tr>\n",
       "      <th>19</th>\n",
       "      <td>236</td>\n",
       "      <td>10.69</td>\n",
       "      <td>8.78</td>\n",
       "    </tr>\n",
       "    <tr>\n",
       "      <th>20</th>\n",
       "      <td>236</td>\n",
       "      <td>22.14</td>\n",
       "      <td>9.12</td>\n",
       "    </tr>\n",
       "    <tr>\n",
       "      <th>21</th>\n",
       "      <td>236</td>\n",
       "      <td>24.72</td>\n",
       "      <td>9.16</td>\n",
       "    </tr>\n",
       "    <tr>\n",
       "      <th>22</th>\n",
       "      <td>306</td>\n",
       "      <td>5.45</td>\n",
       "      <td>9.18</td>\n",
       "    </tr>\n",
       "    <tr>\n",
       "      <th>23</th>\n",
       "      <td>306</td>\n",
       "      <td>5.83</td>\n",
       "      <td>9.17</td>\n",
       "    </tr>\n",
       "    <tr>\n",
       "      <th>24</th>\n",
       "      <td>306</td>\n",
       "      <td>6.34</td>\n",
       "      <td>9.21</td>\n",
       "    </tr>\n",
       "    <tr>\n",
       "      <th>25</th>\n",
       "      <td>306</td>\n",
       "      <td>8.00</td>\n",
       "      <td>9.28</td>\n",
       "    </tr>\n",
       "    <tr>\n",
       "      <th>26</th>\n",
       "      <td>306</td>\n",
       "      <td>16.03</td>\n",
       "      <td>9.61</td>\n",
       "    </tr>\n",
       "    <tr>\n",
       "      <th>27</th>\n",
       "      <td>306</td>\n",
       "      <td>21.23</td>\n",
       "      <td>9.60</td>\n",
       "    </tr>\n",
       "    <tr>\n",
       "      <th>28</th>\n",
       "      <td>306</td>\n",
       "      <td>22.85</td>\n",
       "      <td>9.69</td>\n",
       "    </tr>\n",
       "    <tr>\n",
       "      <th>29</th>\n",
       "      <td>313</td>\n",
       "      <td>0.57</td>\n",
       "      <td>8.94</td>\n",
       "    </tr>\n",
       "    <tr>\n",
       "      <th>30</th>\n",
       "      <td>313</td>\n",
       "      <td>0.99</td>\n",
       "      <td>9.06</td>\n",
       "    </tr>\n",
       "    <tr>\n",
       "      <th>31</th>\n",
       "      <td>313</td>\n",
       "      <td>4.74</td>\n",
       "      <td>9.21</td>\n",
       "    </tr>\n",
       "    <tr>\n",
       "      <th>32</th>\n",
       "      <td>313</td>\n",
       "      <td>8.37</td>\n",
       "      <td>9.41</td>\n",
       "    </tr>\n",
       "    <tr>\n",
       "      <th>33</th>\n",
       "      <td>313</td>\n",
       "      <td>10.50</td>\n",
       "      <td>9.54</td>\n",
       "    </tr>\n",
       "    <tr>\n",
       "      <th>34</th>\n",
       "      <td>313</td>\n",
       "      <td>20.33</td>\n",
       "      <td>9.86</td>\n",
       "    </tr>\n",
       "    <tr>\n",
       "      <th>35</th>\n",
       "      <td>338</td>\n",
       "      <td>1.54</td>\n",
       "      <td>8.74</td>\n",
       "    </tr>\n",
       "    <tr>\n",
       "      <th>36</th>\n",
       "      <td>338</td>\n",
       "      <td>3.86</td>\n",
       "      <td>8.93</td>\n",
       "    </tr>\n",
       "    <tr>\n",
       "      <th>37</th>\n",
       "      <td>338</td>\n",
       "      <td>10.89</td>\n",
       "      <td>9.49</td>\n",
       "    </tr>\n",
       "    <tr>\n",
       "      <th>38</th>\n",
       "      <td>338</td>\n",
       "      <td>18.93</td>\n",
       "      <td>9.85</td>\n",
       "    </tr>\n",
       "    <tr>\n",
       "      <th>39</th>\n",
       "      <td>338</td>\n",
       "      <td>19.25</td>\n",
       "      <td>9.77</td>\n",
       "    </tr>\n",
       "    <tr>\n",
       "      <th>40</th>\n",
       "      <td>522</td>\n",
       "      <td>2.00</td>\n",
       "      <td>9.23</td>\n",
       "    </tr>\n",
       "    <tr>\n",
       "      <th>41</th>\n",
       "      <td>522</td>\n",
       "      <td>2.19</td>\n",
       "      <td>9.28</td>\n",
       "    </tr>\n",
       "    <tr>\n",
       "      <th>42</th>\n",
       "      <td>522</td>\n",
       "      <td>4.07</td>\n",
       "      <td>9.36</td>\n",
       "    </tr>\n",
       "    <tr>\n",
       "      <th>43</th>\n",
       "      <td>522</td>\n",
       "      <td>4.99</td>\n",
       "      <td>9.41</td>\n",
       "    </tr>\n",
       "    <tr>\n",
       "      <th>44</th>\n",
       "      <td>522</td>\n",
       "      <td>7.40</td>\n",
       "      <td>9.55</td>\n",
       "    </tr>\n",
       "    <tr>\n",
       "      <th>45</th>\n",
       "      <td>522</td>\n",
       "      <td>13.67</td>\n",
       "      <td>9.85</td>\n",
       "    </tr>\n",
       "    <tr>\n",
       "      <th>46</th>\n",
       "      <td>522</td>\n",
       "      <td>16.24</td>\n",
       "      <td>9.88</td>\n",
       "    </tr>\n",
       "  </tbody>\n",
       "</table>\n",
       "</div>"
      ],
      "text/plain": [
       "     id  alpha     v\n",
       "0    85   0.89  7.62\n",
       "1    85   1.18  7.67\n",
       "2    85   2.07  7.82\n",
       "3    85   5.11  8.01\n",
       "4    85  16.24  8.48\n",
       "5    85  17.49  8.53\n",
       "6    85  21.24  8.66\n",
       "7   208   0.64  9.20\n",
       "8   208   1.01  9.24\n",
       "9   208   1.74  9.39\n",
       "10  208   3.75  9.69\n",
       "11  208  11.85  9.73\n",
       "12  208  17.28  9.97\n",
       "13  208  19.18  9.99\n",
       "14  236   0.86  8.28\n",
       "15  236   1.27  8.17\n",
       "16  236   1.95  8.22\n",
       "17  236   6.39  8.82\n",
       "18  236   9.77  8.73\n",
       "19  236  10.69  8.78\n",
       "20  236  22.14  9.12\n",
       "21  236  24.72  9.16\n",
       "22  306   5.45  9.18\n",
       "23  306   5.83  9.17\n",
       "24  306   6.34  9.21\n",
       "25  306   8.00  9.28\n",
       "26  306  16.03  9.61\n",
       "27  306  21.23  9.60\n",
       "28  306  22.85  9.69\n",
       "29  313   0.57  8.94\n",
       "30  313   0.99  9.06\n",
       "31  313   4.74  9.21\n",
       "32  313   8.37  9.41\n",
       "33  313  10.50  9.54\n",
       "34  313  20.33  9.86\n",
       "35  338   1.54  8.74\n",
       "36  338   3.86  8.93\n",
       "37  338  10.89  9.49\n",
       "38  338  18.93  9.85\n",
       "39  338  19.25  9.77\n",
       "40  522   2.00  9.23\n",
       "41  522   2.19  9.28\n",
       "42  522   4.07  9.36\n",
       "43  522   4.99  9.41\n",
       "44  522   7.40  9.55\n",
       "45  522  13.67  9.85\n",
       "46  522  16.24  9.88"
      ]
     },
     "execution_count": 7,
     "metadata": {},
     "output_type": "execute_result"
    }
   ],
   "source": [
    "df"
   ]
  },
  {
   "cell_type": "markdown",
   "metadata": {},
   "source": [
    "## Fit your data\n",
    "\n",
    "Pyedra's main objective is to fit a phase function model to our data. Currently the api offers three different models:\n",
    "\n",
    "- `HG_fit` (H, G model): $V(\\alpha)=H-2.5log_{10}[(1-G)\\Phi_{1}(\\alpha)+G\\Phi_{2}(\\alpha)]$"
   ]
  },
  {
   "cell_type": "markdown",
   "metadata": {},
   "source": [
    "- `Shev_fit` (Shevchenko model): $V(1,\\alpha)=V(1,0)-\\frac{a}{1+\\alpha}+b\\cdot\\alpha$"
   ]
  },
  {
   "cell_type": "markdown",
   "metadata": {},
   "source": [
    "- `HG1G2_fit` (H, G$_1$, G$_2$ model): $V(\\alpha) = H-2.5log_{10}[G_{1}\\Phi_{1}(\\alpha)+G_{2}\\Phi_{2}(\\alpha)+(1-G_{1}-G_{2})\\Phi_{3}(\\alpha)]$"
   ]
  },
  {
   "cell_type": "markdown",
   "metadata": {},
   "source": [
    "We will now explain how to apply each of them. At the end of this tutorial you will notice that they all work in an analogous way and that their implementation is very simple."
   ]
  },
  {
   "cell_type": "markdown",
   "metadata": {},
   "source": [
    "### HG_fit\n",
    "\n",
    "Let's assume that we want to fit the biparametric model H, G to our data set. What we will do is invoke Pyedra's `HG_fit` function:"
   ]
  },
  {
   "cell_type": "code",
   "execution_count": 23,
   "metadata": {},
   "outputs": [],
   "source": [
    "HG = pyedra.HG_fit(df)"
   ]
  },
  {
   "cell_type": "markdown",
   "metadata": {},
   "source": [
    "We have already created our catalog of H, G parameters for our data set. Let's see what it looks like."
   ]
  },
  {
   "cell_type": "code",
   "execution_count": 24,
   "metadata": {},
   "outputs": [
    {
     "data": {
      "text/html": [
       "<div class=\"pyedra-data-container\" id=140301201100080><div>\n",
       "<style scoped>\n",
       "    .dataframe tbody tr th:only-of-type {\n",
       "        vertical-align: middle;\n",
       "    }\n",
       "\n",
       "    .dataframe tbody tr th {\n",
       "        vertical-align: top;\n",
       "    }\n",
       "\n",
       "    .dataframe thead th {\n",
       "        text-align: right;\n",
       "    }\n",
       "</style>\n",
       "<table border=\"1\" class=\"dataframe\">\n",
       "  <thead>\n",
       "    <tr style=\"text-align: right;\">\n",
       "      <th></th>\n",
       "      <th>id</th>\n",
       "      <th>H</th>\n",
       "      <th>error_H</th>\n",
       "      <th>G</th>\n",
       "      <th>error_G</th>\n",
       "      <th>R</th>\n",
       "    </tr>\n",
       "  </thead>\n",
       "  <tbody>\n",
       "    <tr>\n",
       "      <th>0</th>\n",
       "      <td>85</td>\n",
       "      <td>7.492423</td>\n",
       "      <td>0.070257</td>\n",
       "      <td>0.043400</td>\n",
       "      <td>0.035114</td>\n",
       "      <td>0.991422</td>\n",
       "    </tr>\n",
       "    <tr>\n",
       "      <th>1</th>\n",
       "      <td>208</td>\n",
       "      <td>9.153433</td>\n",
       "      <td>0.217270</td>\n",
       "      <td>0.219822</td>\n",
       "      <td>0.097057</td>\n",
       "      <td>0.899388</td>\n",
       "    </tr>\n",
       "    <tr>\n",
       "      <th>2</th>\n",
       "      <td>236</td>\n",
       "      <td>8.059719</td>\n",
       "      <td>0.202373</td>\n",
       "      <td>0.104392</td>\n",
       "      <td>0.094382</td>\n",
       "      <td>0.914150</td>\n",
       "    </tr>\n",
       "    <tr>\n",
       "      <th>3</th>\n",
       "      <td>306</td>\n",
       "      <td>8.816185</td>\n",
       "      <td>0.122374</td>\n",
       "      <td>0.306459</td>\n",
       "      <td>0.048506</td>\n",
       "      <td>0.970628</td>\n",
       "    </tr>\n",
       "    <tr>\n",
       "      <th>4</th>\n",
       "      <td>313</td>\n",
       "      <td>8.860208</td>\n",
       "      <td>0.098102</td>\n",
       "      <td>0.170928</td>\n",
       "      <td>0.044624</td>\n",
       "      <td>0.982924</td>\n",
       "    </tr>\n",
       "    <tr>\n",
       "      <th>5</th>\n",
       "      <td>338</td>\n",
       "      <td>8.465495</td>\n",
       "      <td>0.087252</td>\n",
       "      <td>-0.121937</td>\n",
       "      <td>0.048183</td>\n",
       "      <td>0.992949</td>\n",
       "    </tr>\n",
       "    <tr>\n",
       "      <th>6</th>\n",
       "      <td>522</td>\n",
       "      <td>8.992164</td>\n",
       "      <td>0.063690</td>\n",
       "      <td>0.120200</td>\n",
       "      <td>0.028878</td>\n",
       "      <td>0.991757</td>\n",
       "    </tr>\n",
       "  </tbody>\n",
       "</table>\n",
       "</div>PyedraFitDataFrame - 7 rows x 6 columns</div>"
      ],
      "text/plain": [
       "    id         H   error_H         G   error_G         R\n",
       "0   85  7.492423  0.070257  0.043400  0.035114  0.991422\n",
       "1  208  9.153433  0.217270  0.219822  0.097057  0.899388\n",
       "2  236  8.059719  0.202373  0.104392  0.094382  0.914150\n",
       "3  306  8.816185  0.122374  0.306459  0.048506  0.970628\n",
       "4  313  8.860208  0.098102  0.170928  0.044624  0.982924\n",
       "5  338  8.465495  0.087252 -0.121937  0.048183  0.992949\n",
       "6  522  8.992164  0.063690  0.120200  0.028878  0.991757\n",
       "\n",
       "PyedraFitDataFrame - 7 rows x 6 columns"
      ]
     },
     "execution_count": 24,
     "metadata": {},
     "output_type": "execute_result"
    }
   ],
   "source": [
    "HG"
   ]
  },
  {
   "cell_type": "markdown",
   "metadata": {},
   "source": [
    "**R** is the coefficient of determination of the fit\n"
   ]
  },
  {
   "cell_type": "markdown",
   "metadata": {},
   "source": [
    "All pandas dataframe options are available. For example, you may be interested in knowing the mean H of your sample. To do so:"
   ]
  },
  {
   "cell_type": "code",
   "execution_count": 25,
   "metadata": {},
   "outputs": [
    {
     "data": {
      "text/plain": [
       "8.54851801238607"
      ]
     },
     "execution_count": 25,
     "metadata": {},
     "output_type": "execute_result"
    }
   ],
   "source": [
    "HG.H.mean()"
   ]
  },
  {
   "cell_type": "markdown",
   "metadata": {},
   "source": [
    "Remeber that `HG.H` selects the H column."
   ]
  },
  {
   "cell_type": "code",
   "execution_count": 26,
   "metadata": {},
   "outputs": [
    {
     "data": {
      "text/plain": [
       "0    7.492423\n",
       "1    9.153433\n",
       "2    8.059719\n",
       "3    8.816185\n",
       "4    8.860208\n",
       "5    8.465495\n",
       "6    8.992164\n",
       "Name: H, dtype: float64"
      ]
     },
     "execution_count": 26,
     "metadata": {},
     "output_type": "execute_result"
    }
   ],
   "source": [
    "HG.H"
   ]
  },
  {
   "cell_type": "markdown",
   "metadata": {},
   "source": [
    "The `PyedraFitDataFrame` can also be filtered, like a canonical pandas dataframe. Let's assume that we want to save the created catalog, but only for those asteroids whose id is less than t300. All we have to do is:"
   ]
  },
  {
   "cell_type": "code",
   "execution_count": 27,
   "metadata": {},
   "outputs": [
    {
     "data": {
      "text/html": [
       "<div>\n",
       "<style scoped>\n",
       "    .dataframe tbody tr th:only-of-type {\n",
       "        vertical-align: middle;\n",
       "    }\n",
       "\n",
       "    .dataframe tbody tr th {\n",
       "        vertical-align: top;\n",
       "    }\n",
       "\n",
       "    .dataframe thead th {\n",
       "        text-align: right;\n",
       "    }\n",
       "</style>\n",
       "<table border=\"1\" class=\"dataframe\">\n",
       "  <thead>\n",
       "    <tr style=\"text-align: right;\">\n",
       "      <th></th>\n",
       "      <th>id</th>\n",
       "      <th>H</th>\n",
       "      <th>error_H</th>\n",
       "      <th>G</th>\n",
       "      <th>error_G</th>\n",
       "      <th>R</th>\n",
       "    </tr>\n",
       "  </thead>\n",
       "  <tbody>\n",
       "    <tr>\n",
       "      <th>0</th>\n",
       "      <td>85</td>\n",
       "      <td>7.492423</td>\n",
       "      <td>0.070257</td>\n",
       "      <td>0.043400</td>\n",
       "      <td>0.035114</td>\n",
       "      <td>0.991422</td>\n",
       "    </tr>\n",
       "    <tr>\n",
       "      <th>1</th>\n",
       "      <td>208</td>\n",
       "      <td>9.153433</td>\n",
       "      <td>0.217270</td>\n",
       "      <td>0.219822</td>\n",
       "      <td>0.097057</td>\n",
       "      <td>0.899388</td>\n",
       "    </tr>\n",
       "    <tr>\n",
       "      <th>2</th>\n",
       "      <td>236</td>\n",
       "      <td>8.059719</td>\n",
       "      <td>0.202373</td>\n",
       "      <td>0.104392</td>\n",
       "      <td>0.094382</td>\n",
       "      <td>0.914150</td>\n",
       "    </tr>\n",
       "  </tbody>\n",
       "</table>\n",
       "</div>"
      ],
      "text/plain": [
       "    id         H   error_H         G   error_G         R\n",
       "0   85  7.492423  0.070257  0.043400  0.035114  0.991422\n",
       "1  208  9.153433  0.217270  0.219822  0.097057  0.899388\n",
       "2  236  8.059719  0.202373  0.104392  0.094382  0.914150"
      ]
     },
     "execution_count": 27,
     "metadata": {},
     "output_type": "execute_result"
    }
   ],
   "source": [
    "filtered = HG.model_df[HG.model_df['id'] < 300]\n",
    "filtered"
   ]
  },
  {
   "cell_type": "markdown",
   "metadata": {},
   "source": [
    "Finally we want to see our data plotted together with their respective fits. To do this we will use the `.plot` function provided by Pyedra. To obtain the graph with the adjustments of the phase function model we only have to pass to `.plot` the dataframe that contains our data in the following way:"
   ]
  },
  {
   "cell_type": "code",
   "execution_count": 28,
   "metadata": {},
   "outputs": [
    {
     "data": {
      "image/png": "[encoded data removed]",
      "text/plain": [
       "<Figure size 432x288 with 1 Axes>"
      ]
     },
     "metadata": {},
     "output_type": "display_data"
    }
   ],
   "source": [
    "HG.plot(df=df)"
   ]
  },
  {
   "cell_type": "markdown",
   "metadata": {},
   "source": [
    "If your database is very large and you want a clearer graph, or if you only want to see the fit of one of the asteroids you can filter your initial dataframe."
   ]
  },
  {
   "cell_type": "code",
   "execution_count": 36,
   "metadata": {},
   "outputs": [
    {
     "data": {
      "text/plain": [
       "<AxesSubplot:title={'center':'Phase curves'}, xlabel='Phase angle', ylabel='V'>"
      ]
     },
     "execution_count": 36,
     "metadata": {},
     "output_type": "execute_result"
    },
    {
     "data": {
      "image/png": "[encoded data removed]",
      "text/plain": [
       "<Figure size 432x288 with 1 Axes>"
      ]
     },
     "metadata": {},
     "output_type": "display_data"
    }
   ],
   "source": [
    "asteroid_85 = df[df['id'] == 85]\n",
    "HG_85 = pyedra.HG_fit(asteroid_85)\n",
    "HG_85.plot(df=asteroid_85)"
   ]
  },
  {
   "cell_type": "markdown",
   "metadata": {},
   "source": [
    "All pandas plots are available if you want to use any of them. For example, we may want to visualize the histogram of one of the parameters:"
   ]
  },
  {
   "cell_type": "code",
   "execution_count": 30,
   "metadata": {},
   "outputs": [
    {
     "data": {
      "text/plain": [
       "<AxesSubplot:ylabel='Frequency'>"
      ]
     },
     "execution_count": 30,
     "metadata": {},
     "output_type": "execute_result"
    },
    {
     "data": {
      "image/png": "[encoded data removed]",
      "text/plain": [
       "<Figure size 432x288 with 1 Axes>"
      ]
     },
     "metadata": {},
     "output_type": "display_data"
    }
   ],
   "source": [
    "HG.plot(y='G', kind='hist')"
   ]
  },
  {
   "cell_type": "markdown",
   "metadata": {},
   "source": [
    "Or we may want to find out if there is a correlation between parameters:"
   ]
  },
  {
   "cell_type": "code",
   "execution_count": 31,
   "metadata": {},
   "outputs": [
    {
     "data": {
      "image/png": "[encoded data removed]",
      "text/plain": [
       "<Figure size 432x288 with 1 Axes>"
      ]
     },
     "metadata": {},
     "output_type": "display_data"
    }
   ],
   "source": [
    "HG.plot(x='G', y='H', kind='scatter', marker='o', color='black')\n",
    "plt.savefig('figure2.pdf', dpi=300)"
   ]
  },
  {
   "cell_type": "markdown",
   "metadata": {},
   "source": [
    "Everything we have done in this section can be extended in an analogous way to the rest of the models, as we will see below."
   ]
  },
  {
   "cell_type": "markdown",
   "metadata": {},
   "source": [
    "### HG1G2_fit\n",
    "\n",
    "Now we want to adjust the H, G$_1$, G$_2$ model to our data. Use the function `HG1G2_fit` in the following way."
   ]
  },
  {
   "cell_type": "code",
   "execution_count": 61,
   "metadata": {},
   "outputs": [
    {
     "data": {
      "text/html": [
       "<div class=\"pyedra-data-container\" id=140694629398400><div>\n",
       "<style scoped>\n",
       "    .dataframe tbody tr th:only-of-type {\n",
       "        vertical-align: middle;\n",
       "    }\n",
       "\n",
       "    .dataframe tbody tr th {\n",
       "        vertical-align: top;\n",
       "    }\n",
       "\n",
       "    .dataframe thead th {\n",
       "        text-align: right;\n",
       "    }\n",
       "</style>\n",
       "<table border=\"1\" class=\"dataframe\">\n",
       "  <thead>\n",
       "    <tr style=\"text-align: right;\">\n",
       "      <th></th>\n",
       "      <th>id</th>\n",
       "      <th>H12</th>\n",
       "      <th>error_H12</th>\n",
       "      <th>G1</th>\n",
       "      <th>error_G1</th>\n",
       "      <th>G2</th>\n",
       "      <th>error_G2</th>\n",
       "      <th>R</th>\n",
       "    </tr>\n",
       "  </thead>\n",
       "  <tbody>\n",
       "    <tr>\n",
       "      <th>0</th>\n",
       "      <td>85</td>\n",
       "      <td>7.398776</td>\n",
       "      <td>0.162316</td>\n",
       "      <td>0.303790</td>\n",
       "      <td>0.081963</td>\n",
       "      <td>0.236331</td>\n",
       "      <td>0.062360</td>\n",
       "      <td>0.996285</td>\n",
       "    </tr>\n",
       "    <tr>\n",
       "      <th>1</th>\n",
       "      <td>208</td>\n",
       "      <td>8.904819</td>\n",
       "      <td>0.326344</td>\n",
       "      <td>-0.393842</td>\n",
       "      <td>0.320769</td>\n",
       "      <td>0.709746</td>\n",
       "      <td>0.190495</td>\n",
       "      <td>0.976405</td>\n",
       "    </tr>\n",
       "    <tr>\n",
       "      <th>2</th>\n",
       "      <td>236</td>\n",
       "      <td>7.901036</td>\n",
       "      <td>0.558052</td>\n",
       "      <td>0.043248</td>\n",
       "      <td>0.361217</td>\n",
       "      <td>0.413350</td>\n",
       "      <td>0.237267</td>\n",
       "      <td>0.934118</td>\n",
       "    </tr>\n",
       "    <tr>\n",
       "      <th>3</th>\n",
       "      <td>306</td>\n",
       "      <td>8.224509</td>\n",
       "      <td>1.238547</td>\n",
       "      <td>-0.041959</td>\n",
       "      <td>0.529741</td>\n",
       "      <td>0.367042</td>\n",
       "      <td>0.443392</td>\n",
       "      <td>0.968671</td>\n",
       "    </tr>\n",
       "    <tr>\n",
       "      <th>4</th>\n",
       "      <td>313</td>\n",
       "      <td>8.883195</td>\n",
       "      <td>0.347260</td>\n",
       "      <td>0.661550</td>\n",
       "      <td>0.161242</td>\n",
       "      <td>0.127482</td>\n",
       "      <td>0.154199</td>\n",
       "      <td>0.984322</td>\n",
       "    </tr>\n",
       "    <tr>\n",
       "      <th>5</th>\n",
       "      <td>338</td>\n",
       "      <td>8.450968</td>\n",
       "      <td>0.391477</td>\n",
       "      <td>0.691141</td>\n",
       "      <td>0.194887</td>\n",
       "      <td>-0.070232</td>\n",
       "      <td>0.173648</td>\n",
       "      <td>0.991939</td>\n",
       "    </tr>\n",
       "    <tr>\n",
       "      <th>6</th>\n",
       "      <td>522</td>\n",
       "      <td>9.046202</td>\n",
       "      <td>0.213791</td>\n",
       "      <td>0.705920</td>\n",
       "      <td>0.107933</td>\n",
       "      <td>0.088499</td>\n",
       "      <td>0.087300</td>\n",
       "      <td>0.992124</td>\n",
       "    </tr>\n",
       "  </tbody>\n",
       "</table>\n",
       "</div>PyedraFitDataFrame - 7 rows x 8 columns</div>"
      ],
      "text/plain": [
       "    id       H12  error_H12        G1  error_G1        G2  error_G2         R\n",
       "0   85  7.398776   0.162316  0.303790  0.081963  0.236331  0.062360  0.996285\n",
       "1  208  8.904819   0.326344 -0.393842  0.320769  0.709746  0.190495  0.976405\n",
       "2  236  7.901036   0.558052  0.043248  0.361217  0.413350  0.237267  0.934118\n",
       "3  306  8.224509   1.238547 -0.041959  0.529741  0.367042  0.443392  0.968671\n",
       "4  313  8.883195   0.347260  0.661550  0.161242  0.127482  0.154199  0.984322\n",
       "5  338  8.450968   0.391477  0.691141  0.194887 -0.070232  0.173648  0.991939\n",
       "6  522  9.046202   0.213791  0.705920  0.107933  0.088499  0.087300  0.992124\n",
       "\n",
       "PyedraFitDataFrame - 7 rows x 8 columns"
      ]
     },
     "execution_count": 61,
     "metadata": {},
     "output_type": "execute_result"
    }
   ],
   "source": [
    "HG1G2 = pyedra.HG1G2_fit(df)\n",
    "HG1G2"
   ]
  },
  {
   "cell_type": "markdown",
   "metadata": {},
   "source": [
    "**R** is the coefficient of determination of the fit."
   ]
  },
  {
   "cell_type": "markdown",
   "metadata": {},
   "source": [
    "We can calculate, for example, the median of each of the columns:"
   ]
  },
  {
   "cell_type": "code",
   "execution_count": 62,
   "metadata": {},
   "outputs": [
    {
     "data": {
      "text/plain": [
       "id           306.000000\n",
       "H12            8.450968\n",
       "error_H12      0.347260\n",
       "G1             0.303790\n",
       "error_G1       0.194887\n",
       "G2             0.236331\n",
       "error_G2       0.173648\n",
       "R              0.984322\n",
       "dtype: float64"
      ]
     },
     "execution_count": 62,
     "metadata": {},
     "output_type": "execute_result"
    }
   ],
   "source": [
    "HG1G2.median()"
   ]
  },
  {
   "cell_type": "markdown",
   "metadata": {},
   "source": [
    "Again, we can filter our catalog. We are keeping the best settings, that is, those whose R is greater than 0.98."
   ]
  },
  {
   "cell_type": "code",
   "execution_count": 66,
   "metadata": {},
   "outputs": [
    {
     "data": {
      "text/html": [
       "<div>\n",
       "<style scoped>\n",
       "    .dataframe tbody tr th:only-of-type {\n",
       "        vertical-align: middle;\n",
       "    }\n",
       "\n",
       "    .dataframe tbody tr th {\n",
       "        vertical-align: top;\n",
       "    }\n",
       "\n",
       "    .dataframe thead th {\n",
       "        text-align: right;\n",
       "    }\n",
       "</style>\n",
       "<table border=\"1\" class=\"dataframe\">\n",
       "  <thead>\n",
       "    <tr style=\"text-align: right;\">\n",
       "      <th></th>\n",
       "      <th>id</th>\n",
       "      <th>H12</th>\n",
       "      <th>error_H12</th>\n",
       "      <th>G1</th>\n",
       "      <th>error_G1</th>\n",
       "      <th>G2</th>\n",
       "      <th>error_G2</th>\n",
       "      <th>R</th>\n",
       "    </tr>\n",
       "  </thead>\n",
       "  <tbody>\n",
       "    <tr>\n",
       "      <th>0</th>\n",
       "      <td>85</td>\n",
       "      <td>7.398776</td>\n",
       "      <td>0.162316</td>\n",
       "      <td>0.303790</td>\n",
       "      <td>0.081963</td>\n",
       "      <td>0.236331</td>\n",
       "      <td>0.062360</td>\n",
       "      <td>0.996285</td>\n",
       "    </tr>\n",
       "    <tr>\n",
       "      <th>4</th>\n",
       "      <td>313</td>\n",
       "      <td>8.883195</td>\n",
       "      <td>0.347260</td>\n",
       "      <td>0.661550</td>\n",
       "      <td>0.161242</td>\n",
       "      <td>0.127482</td>\n",
       "      <td>0.154199</td>\n",
       "      <td>0.984322</td>\n",
       "    </tr>\n",
       "    <tr>\n",
       "      <th>5</th>\n",
       "      <td>338</td>\n",
       "      <td>8.450968</td>\n",
       "      <td>0.391477</td>\n",
       "      <td>0.691141</td>\n",
       "      <td>0.194887</td>\n",
       "      <td>-0.070232</td>\n",
       "      <td>0.173648</td>\n",
       "      <td>0.991939</td>\n",
       "    </tr>\n",
       "    <tr>\n",
       "      <th>6</th>\n",
       "      <td>522</td>\n",
       "      <td>9.046202</td>\n",
       "      <td>0.213791</td>\n",
       "      <td>0.705920</td>\n",
       "      <td>0.107933</td>\n",
       "      <td>0.088499</td>\n",
       "      <td>0.087300</td>\n",
       "      <td>0.992124</td>\n",
       "    </tr>\n",
       "  </tbody>\n",
       "</table>\n",
       "</div>"
      ],
      "text/plain": [
       "    id       H12  error_H12        G1  error_G1        G2  error_G2         R\n",
       "0   85  7.398776   0.162316  0.303790  0.081963  0.236331  0.062360  0.996285\n",
       "4  313  8.883195   0.347260  0.661550  0.161242  0.127482  0.154199  0.984322\n",
       "5  338  8.450968   0.391477  0.691141  0.194887 -0.070232  0.173648  0.991939\n",
       "6  522  9.046202   0.213791  0.705920  0.107933  0.088499  0.087300  0.992124"
      ]
     },
     "execution_count": 66,
     "metadata": {},
     "output_type": "execute_result"
    }
   ],
   "source": [
    "best_fits = HG1G2.model_df[HG1G2.model_df['R'] > 0.98]\n",
    "best_fits"
   ]
  },
  {
   "cell_type": "markdown",
   "metadata": {},
   "source": [
    "We will now look at the graphics. "
   ]
  },
  {
   "cell_type": "code",
   "execution_count": 68,
   "metadata": {},
   "outputs": [
    {
     "data": {
      "text/plain": [
       "<AxesSubplot:title={'center':'Phase curves'}, xlabel='Phase angle', ylabel='V'>"
      ]
     },
     "execution_count": 68,
     "metadata": {},
     "output_type": "execute_result"
    },
    {
     "data": {
      "image/png": "[encoded data removed]",
      "text/plain": [
       "<Figure size 432x288 with 1 Axes>"
      ]
     },
     "metadata": {},
     "output_type": "display_data"
    }
   ],
   "source": [
    "HG1G2.plot(df=df)"
   ]
  },
  {
   "cell_type": "markdown",
   "metadata": {},
   "source": [
    "If we want to visualize the graph only of the asteroid (522):"
   ]
  },
  {
   "cell_type": "code",
   "execution_count": 76,
   "metadata": {},
   "outputs": [
    {
     "data": {
      "text/plain": [
       "<AxesSubplot:title={'center':'Phase curves'}, xlabel='Phase angle', ylabel='V'>"
      ]
     },
     "execution_count": 76,
     "metadata": {},
     "output_type": "execute_result"
    },
    {
     "data": {
      "image/png": "[encoded data removed]",
      "text/plain": [
       "<Figure size 432x288 with 1 Axes>"
      ]
     },
     "metadata": {},
     "output_type": "display_data"
    }
   ],
   "source": [
    "asteroid_522 = df[df['id'] == 522]\n",
    "HG1G2_522 = pyedra.HG_fit(asteroid_522)\n",
    "HG1G2_522.plot(df=asteroid_522)"
   ]
  },
  {
   "cell_type": "markdown",
   "metadata": {},
   "source": [
    "To see the correlation between the parameters G$_1$ and G$_2$ we can use the \"scatter\" graph of pandas:"
   ]
  },
  {
   "cell_type": "code",
   "execution_count": 83,
   "metadata": {},
   "outputs": [
    {
     "data": {
      "text/plain": [
       "<AxesSubplot:xlabel='G1', ylabel='G2'>"
      ]
     },
     "execution_count": 83,
     "metadata": {},
     "output_type": "execute_result"
    },
    {
     "data": {
      "image/png": "[encoded data removed]",
      "text/plain": [
       "<Figure size 432x288 with 1 Axes>"
      ]
     },
     "metadata": {},
     "output_type": "display_data"
    }
   ],
   "source": [
    "HG1G2.plot(x='G1', y ='G2', kind ='scatter')"
   ]
  },
  {
   "cell_type": "markdown",
   "metadata": {},
   "source": [
    "### Shev_fit"
   ]
  },
  {
   "cell_type": "markdown",
   "metadata": {},
   "source": [
    "If we want to adjust the Shevchenko model to our data, we must use `Shev_fit`."
   ]
  },
  {
   "cell_type": "code",
   "execution_count": 129,
   "metadata": {},
   "outputs": [
    {
     "data": {
      "text/html": [
       "<div class=\"pyedra-data-container\" id=140694498875264><div>\n",
       "<style scoped>\n",
       "    .dataframe tbody tr th:only-of-type {\n",
       "        vertical-align: middle;\n",
       "    }\n",
       "\n",
       "    .dataframe tbody tr th {\n",
       "        vertical-align: top;\n",
       "    }\n",
       "\n",
       "    .dataframe thead th {\n",
       "        text-align: right;\n",
       "    }\n",
       "</style>\n",
       "<table border=\"1\" class=\"dataframe\">\n",
       "  <thead>\n",
       "    <tr style=\"text-align: right;\">\n",
       "      <th></th>\n",
       "      <th>id</th>\n",
       "      <th>V_lin</th>\n",
       "      <th>error_V_lin</th>\n",
       "      <th>b</th>\n",
       "      <th>error_b</th>\n",
       "      <th>c</th>\n",
       "      <th>error_c</th>\n",
       "      <th>R</th>\n",
       "    </tr>\n",
       "  </thead>\n",
       "  <tbody>\n",
       "    <tr>\n",
       "      <th>0</th>\n",
       "      <td>85</td>\n",
       "      <td>7.957775</td>\n",
       "      <td>0.022576</td>\n",
       "      <td>0.696826</td>\n",
       "      <td>0.051010</td>\n",
       "      <td>0.034637</td>\n",
       "      <td>0.001184</td>\n",
       "      <td>0.999542</td>\n",
       "    </tr>\n",
       "    <tr>\n",
       "      <th>1</th>\n",
       "      <td>208</td>\n",
       "      <td>9.738767</td>\n",
       "      <td>0.146121</td>\n",
       "      <td>0.945126</td>\n",
       "      <td>0.300105</td>\n",
       "      <td>0.014448</td>\n",
       "      <td>0.008524</td>\n",
       "      <td>0.960483</td>\n",
       "    </tr>\n",
       "    <tr>\n",
       "      <th>2</th>\n",
       "      <td>236</td>\n",
       "      <td>8.626281</td>\n",
       "      <td>0.166623</td>\n",
       "      <td>0.916350</td>\n",
       "      <td>0.402758</td>\n",
       "      <td>0.023646</td>\n",
       "      <td>0.008515</td>\n",
       "      <td>0.932592</td>\n",
       "    </tr>\n",
       "    <tr>\n",
       "      <th>3</th>\n",
       "      <td>306</td>\n",
       "      <td>9.600553</td>\n",
       "      <td>0.275835</td>\n",
       "      <td>3.231009</td>\n",
       "      <td>1.549868</td>\n",
       "      <td>0.009097</td>\n",
       "      <td>0.010083</td>\n",
       "      <td>0.975662</td>\n",
       "    </tr>\n",
       "    <tr>\n",
       "      <th>4</th>\n",
       "      <td>313</td>\n",
       "      <td>9.132444</td>\n",
       "      <td>0.071010</td>\n",
       "      <td>0.297612</td>\n",
       "      <td>0.140332</td>\n",
       "      <td>0.037097</td>\n",
       "      <td>0.004712</td>\n",
       "      <td>0.988686</td>\n",
       "    </tr>\n",
       "    <tr>\n",
       "      <th>5</th>\n",
       "      <td>338</td>\n",
       "      <td>9.003280</td>\n",
       "      <td>0.216194</td>\n",
       "      <td>0.900765</td>\n",
       "      <td>0.623240</td>\n",
       "      <td>0.045328</td>\n",
       "      <td>0.011141</td>\n",
       "      <td>0.985846</td>\n",
       "    </tr>\n",
       "    <tr>\n",
       "      <th>6</th>\n",
       "      <td>522</td>\n",
       "      <td>9.292723</td>\n",
       "      <td>0.084461</td>\n",
       "      <td>0.392058</td>\n",
       "      <td>0.267625</td>\n",
       "      <td>0.039625</td>\n",
       "      <td>0.005236</td>\n",
       "      <td>0.989935</td>\n",
       "    </tr>\n",
       "  </tbody>\n",
       "</table>\n",
       "</div>PyedraFitDataFrame - 7 rows x 8 columns</div>"
      ],
      "text/plain": [
       "    id     V_lin  error_V_lin         b   error_b         c   error_c  \\\n",
       "0   85  7.957775     0.022576  0.696826  0.051010  0.034637  0.001184   \n",
       "1  208  9.738767     0.146121  0.945126  0.300105  0.014448  0.008524   \n",
       "2  236  8.626281     0.166623  0.916350  0.402758  0.023646  0.008515   \n",
       "3  306  9.600553     0.275835  3.231009  1.549868  0.009097  0.010083   \n",
       "4  313  9.132444     0.071010  0.297612  0.140332  0.037097  0.004712   \n",
       "5  338  9.003280     0.216194  0.900765  0.623240  0.045328  0.011141   \n",
       "6  522  9.292723     0.084461  0.392058  0.267625  0.039625  0.005236   \n",
       "\n",
       "          R  \n",
       "0  0.999542  \n",
       "1  0.960483  \n",
       "2  0.932592  \n",
       "3  0.975662  \n",
       "4  0.988686  \n",
       "5  0.985846  \n",
       "6  0.989935  \n",
       "\n",
       "PyedraFitDataFrame - 7 rows x 8 columns"
      ]
     },
     "execution_count": 129,
     "metadata": {},
     "output_type": "execute_result"
    }
   ],
   "source": [
    "Shev = pyedra.Shev_fit(df)\n",
    "Shev"
   ]
  },
  {
   "cell_type": "markdown",
   "metadata": {},
   "source": [
    "**R** is the coefficient of determination of the fit."
   ]
  },
  {
   "cell_type": "markdown",
   "metadata": {},
   "source": [
    "We can select a particular column and calculate, for example, its minimum:"
   ]
  },
  {
   "cell_type": "code",
   "execution_count": 130,
   "metadata": {},
   "outputs": [
    {
     "data": {
      "text/plain": [
       "0    7.957775\n",
       "1    9.738767\n",
       "2    8.626281\n",
       "3    9.600553\n",
       "4    9.132444\n",
       "5    9.003280\n",
       "6    9.292723\n",
       "Name: V_lin, dtype: float64"
      ]
     },
     "execution_count": 130,
     "metadata": {},
     "output_type": "execute_result"
    }
   ],
   "source": [
    "Shev.V_lin"
   ]
  },
  {
   "cell_type": "code",
   "execution_count": 131,
   "metadata": {},
   "outputs": [
    {
     "data": {
      "text/plain": [
       "7.9577754899895226"
      ]
     },
     "execution_count": 131,
     "metadata": {},
     "output_type": "execute_result"
    }
   ],
   "source": [
    "Shev.V_lin.min()"
   ]
  },
  {
   "cell_type": "markdown",
   "metadata": {},
   "source": [
    "And obviously we can graph the resulting fit:"
   ]
  },
  {
   "cell_type": "code",
   "execution_count": 132,
   "metadata": {},
   "outputs": [
    {
     "data": {
      "text/plain": [
       "<AxesSubplot:title={'center':'Phase curves'}, xlabel='Phase angle', ylabel='V'>"
      ]
     },
     "execution_count": 132,
     "metadata": {},
     "output_type": "execute_result"
    },
    {
     "data": {
      "image/png": "[encoded data removed]",
      "text/plain": [
       "<Figure size 432x288 with 1 Axes>"
      ]
     },
     "metadata": {},
     "output_type": "display_data"
    }
   ],
   "source": [
    "Shev.plot(df=df)"
   ]
  },
  {
   "cell_type": "markdown",
   "metadata": {},
   "source": [
    "Selecting a subsample:"
   ]
  },
  {
   "cell_type": "code",
   "execution_count": 135,
   "metadata": {},
   "outputs": [
    {
     "data": {
      "text/plain": [
       "<AxesSubplot:title={'center':'Phase curves'}, xlabel='Phase angle', ylabel='V'>"
      ]
     },
     "execution_count": 135,
     "metadata": {},
     "output_type": "execute_result"
    },
    {
     "data": {
      "image/png": "[encoded data removed]",
      "text/plain": [
       "<Figure size 432x288 with 1 Axes>"
      ]
     },
     "metadata": {},
     "output_type": "display_data"
    }
   ],
   "source": [
    "subsample = df[df['id'] > 100 ]\n",
    "Shev_subsample = pyedra.Shev_fit(subsample)\n",
    "Shev_subsample.plot(df=subsample)"
   ]
  },
  {
   "cell_type": "markdown",
   "metadata": {},
   "source": [
    "We can use some of the pandas plot."
   ]
  },
  {
   "cell_type": "code",
   "execution_count": 151,
   "metadata": {},
   "outputs": [
    {
     "data": {
      "text/plain": [
       "array([<AxesSubplot:ylabel='Density'>, <AxesSubplot:ylabel='Density'>],\n",
       "      dtype=object)"
      ]
     },
     "execution_count": 151,
     "metadata": {},
     "output_type": "execute_result"
    },
    {
     "data": {
      "image/png": "[encoded data removed]",
      "text/plain": [
       "<Figure size 360x360 with 2 Axes>"
      ]
     },
     "metadata": {},
     "output_type": "display_data"
    }
   ],
   "source": [
    "Shev_subsample.plot(y=['b', 'error_b'], kind='density', subplots=True, figsize=(5,5), xlim=(0,2))\n"
   ]
  },
  {
   "cell_type": "code",
   "execution_count": null,
   "metadata": {},
   "outputs": [],
   "source": []
  }
 ],
 "metadata": {
  "kernelspec": {
   "display_name": "Python 3",
   "language": "python",
   "name": "python3"
  },
  "language_info": {
   "codemirror_mode": {
    "name": "ipython",
    "version": 3
   },
   "file_extension": ".py",
   "mimetype": "text/x-python",
   "name": "python",
   "nbconvert_exporter": "python",
   "pygments_lexer": "ipython3",
   "version": "3.6.7"
  }
 },
 "nbformat": 4,
 "nbformat_minor": 2
}
